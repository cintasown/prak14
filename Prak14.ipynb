{
 "cells": [
  {
   "cell_type": "code",
   "execution_count": 11,
   "id": "83d0f5b4-d356-43c8-a871-c982818f7749",
   "metadata": {},
   "outputs": [
    {
     "name": "stdout",
     "output_type": "stream",
     "text": [
      "Kruskal-Wallis H = 25.597, p-value = 0.0000\n",
      "Hasil signifikan: Lanjut ke uji post-hoc Dunn\n",
      "\n",
      "Hasil post-hoc Dunn test:\n",
      "          Diskusi   Mandiri     Video\n",
      "Diskusi  1.000000  0.030714  0.038170\n",
      "Mandiri  0.030714  1.000000  0.000001\n",
      "Video    0.038170  0.000001  1.000000\n"
     ]
    }
   ],
   "source": [
    "# Muhammad Fadhil Ramadhan - 064102400010\n",
    "import scipy.stats as stats\n",
    "import scikit_posthocs as sp\n",
    "import pandas as pd\n",
    "\n",
    "# Data skor tes dari masing masing kelompok\n",
    "video = [85, 88, 90, 86, 87, 91, 85, 89, 92, 88]\n",
    "diskusi = [80, 82, 78, 85, 79, 81, 83, 84, 78, 80]\n",
    "mandiri = [70, 72, 68, 65, 75, 73, 69, 74, 71, 72]\n",
    "\n",
    "# Uji Kruskal-Wallis\n",
    "H, p = stats.kruskal(video, diskusi, mandiri)\n",
    "print(f\"Kruskal-Wallis H = {H:.3f}, p-value = {p:.4f}\")\n",
    "\n",
    "if p < 0.05:\n",
    "    print(\"Hasil signifikan: Lanjut ke uji post-hoc Dunn\")\n",
    "\n",
    "    # Gabungkan data ke dalam DataFrame\n",
    "    data = video + diskusi + mandiri\n",
    "    group = ['Video']*len(video) + ['Diskusi']*len(diskusi) + ['Mandiri']*len(mandiri)\n",
    "    df = pd.DataFrame({'Metode': group, 'Skor': data})\n",
    "\n",
    "    # Post-hoc Dunn dengan Koreksi Bonferroni\n",
    "    hasil_dunn = sp.posthoc_dunn(df, val_col='Skor', group_col='Metode', p_adjust='bonferroni')\n",
    "    print(\"\\nHasil post-hoc Dunn test:\")\n",
    "    print(hasil_dunn)\n",
    "else:\n",
    "    print(\"Tidak ada perbedaan signifikan antara kelompok.\")"
   ]
  },
  {
   "cell_type": "code",
   "execution_count": 4,
   "id": "8f6a7233-597e-4b6f-b429-5f4a4c2fcb96",
   "metadata": {},
   "outputs": [
    {
     "name": "stdout",
     "output_type": "stream",
     "text": [
      "Requirement already satisfied: scikit-posthocs in c:\\users\\user\\anaconda3\\lib\\site-packages (0.11.4)\n",
      "Requirement already satisfied: numpy in c:\\users\\user\\anaconda3\\lib\\site-packages (from scikit-posthocs) (1.26.4)\n",
      "Requirement already satisfied: scipy>=1.9.0 in c:\\users\\user\\anaconda3\\lib\\site-packages (from scikit-posthocs) (1.13.1)\n",
      "Requirement already satisfied: statsmodels in c:\\users\\user\\anaconda3\\lib\\site-packages (from scikit-posthocs) (0.14.2)\n",
      "Requirement already satisfied: pandas>=0.20.0 in c:\\users\\user\\anaconda3\\lib\\site-packages (from scikit-posthocs) (2.2.2)\n",
      "Requirement already satisfied: seaborn in c:\\users\\user\\anaconda3\\lib\\site-packages (from scikit-posthocs) (0.13.2)\n",
      "Requirement already satisfied: matplotlib in c:\\users\\user\\anaconda3\\lib\\site-packages (from scikit-posthocs) (3.9.2)\n",
      "Requirement already satisfied: python-dateutil>=2.8.2 in c:\\users\\user\\anaconda3\\lib\\site-packages (from pandas>=0.20.0->scikit-posthocs) (2.9.0.post0)\n",
      "Requirement already satisfied: pytz>=2020.1 in c:\\users\\user\\anaconda3\\lib\\site-packages (from pandas>=0.20.0->scikit-posthocs) (2024.1)\n",
      "Requirement already satisfied: tzdata>=2022.7 in c:\\users\\user\\anaconda3\\lib\\site-packages (from pandas>=0.20.0->scikit-posthocs) (2023.3)\n",
      "Requirement already satisfied: contourpy>=1.0.1 in c:\\users\\user\\anaconda3\\lib\\site-packages (from matplotlib->scikit-posthocs) (1.2.0)\n",
      "Requirement already satisfied: cycler>=0.10 in c:\\users\\user\\anaconda3\\lib\\site-packages (from matplotlib->scikit-posthocs) (0.11.0)\n",
      "Requirement already satisfied: fonttools>=4.22.0 in c:\\users\\user\\anaconda3\\lib\\site-packages (from matplotlib->scikit-posthocs) (4.51.0)\n",
      "Requirement already satisfied: kiwisolver>=1.3.1 in c:\\users\\user\\anaconda3\\lib\\site-packages (from matplotlib->scikit-posthocs) (1.4.4)\n",
      "Requirement already satisfied: packaging>=20.0 in c:\\users\\user\\anaconda3\\lib\\site-packages (from matplotlib->scikit-posthocs) (24.1)\n",
      "Requirement already satisfied: pillow>=8 in c:\\users\\user\\anaconda3\\lib\\site-packages (from matplotlib->scikit-posthocs) (10.4.0)\n",
      "Requirement already satisfied: pyparsing>=2.3.1 in c:\\users\\user\\anaconda3\\lib\\site-packages (from matplotlib->scikit-posthocs) (3.1.2)\n",
      "Requirement already satisfied: patsy>=0.5.6 in c:\\users\\user\\anaconda3\\lib\\site-packages (from statsmodels->scikit-posthocs) (0.5.6)\n",
      "Requirement already satisfied: six in c:\\users\\user\\anaconda3\\lib\\site-packages (from patsy>=0.5.6->statsmodels->scikit-posthocs) (1.16.0)\n"
     ]
    }
   ],
   "source": [
    "!pip install scikit-posthocs"
   ]
  },
  {
   "cell_type": "code",
   "execution_count": 6,
   "id": "75b86d94-3e7a-419e-970b-c3be205d095b",
   "metadata": {},
   "outputs": [
    {
     "name": "stdout",
     "output_type": "stream",
     "text": [
      "Requirement already satisfied: scikit-posthocs in c:\\users\\user\\anaconda3\\lib\\site-packages (0.11.4)\n",
      "Requirement already satisfied: numpy in c:\\users\\user\\anaconda3\\lib\\site-packages (from scikit-posthocs) (1.26.4)\n",
      "Requirement already satisfied: scipy>=1.9.0 in c:\\users\\user\\anaconda3\\lib\\site-packages (from scikit-posthocs) (1.13.1)\n",
      "Requirement already satisfied: statsmodels in c:\\users\\user\\anaconda3\\lib\\site-packages (from scikit-posthocs) (0.14.2)\n",
      "Requirement already satisfied: pandas>=0.20.0 in c:\\users\\user\\anaconda3\\lib\\site-packages (from scikit-posthocs) (2.2.2)\n",
      "Requirement already satisfied: seaborn in c:\\users\\user\\anaconda3\\lib\\site-packages (from scikit-posthocs) (0.13.2)\n",
      "Requirement already satisfied: matplotlib in c:\\users\\user\\anaconda3\\lib\\site-packages (from scikit-posthocs) (3.9.2)\n",
      "Requirement already satisfied: python-dateutil>=2.8.2 in c:\\users\\user\\anaconda3\\lib\\site-packages (from pandas>=0.20.0->scikit-posthocs) (2.9.0.post0)\n",
      "Requirement already satisfied: pytz>=2020.1 in c:\\users\\user\\anaconda3\\lib\\site-packages (from pandas>=0.20.0->scikit-posthocs) (2024.1)\n",
      "Requirement already satisfied: tzdata>=2022.7 in c:\\users\\user\\anaconda3\\lib\\site-packages (from pandas>=0.20.0->scikit-posthocs) (2023.3)\n",
      "Requirement already satisfied: contourpy>=1.0.1 in c:\\users\\user\\anaconda3\\lib\\site-packages (from matplotlib->scikit-posthocs) (1.2.0)\n",
      "Requirement already satisfied: cycler>=0.10 in c:\\users\\user\\anaconda3\\lib\\site-packages (from matplotlib->scikit-posthocs) (0.11.0)\n",
      "Requirement already satisfied: fonttools>=4.22.0 in c:\\users\\user\\anaconda3\\lib\\site-packages (from matplotlib->scikit-posthocs) (4.51.0)\n",
      "Requirement already satisfied: kiwisolver>=1.3.1 in c:\\users\\user\\anaconda3\\lib\\site-packages (from matplotlib->scikit-posthocs) (1.4.4)\n",
      "Requirement already satisfied: packaging>=20.0 in c:\\users\\user\\anaconda3\\lib\\site-packages (from matplotlib->scikit-posthocs) (24.1)\n",
      "Requirement already satisfied: pillow>=8 in c:\\users\\user\\anaconda3\\lib\\site-packages (from matplotlib->scikit-posthocs) (10.4.0)\n",
      "Requirement already satisfied: pyparsing>=2.3.1 in c:\\users\\user\\anaconda3\\lib\\site-packages (from matplotlib->scikit-posthocs) (3.1.2)\n",
      "Requirement already satisfied: patsy>=0.5.6 in c:\\users\\user\\anaconda3\\lib\\site-packages (from statsmodels->scikit-posthocs) (0.5.6)\n",
      "Requirement already satisfied: six in c:\\users\\user\\anaconda3\\lib\\site-packages (from patsy>=0.5.6->statsmodels->scikit-posthocs) (1.16.0)\n",
      "Note: you may need to restart the kernel to use updated packages.\n"
     ]
    }
   ],
   "source": [
    "pip install scikit-posthocs"
   ]
  },
  {
   "cell_type": "code",
   "execution_count": 13,
   "id": "0081418a-425b-44be-9883-481e9454e301",
   "metadata": {},
   "outputs": [
    {
     "name": "stdout",
     "output_type": "stream",
     "text": [
      "The history saving thread hit an unexpected error (OperationalError('database or disk is full')).History will not be written to the database.\n",
      "Friedman test statistic = 6.000, p-value = 0.0498\n",
      "Hasil signifikan: Lanjut ke post-hoc Wilcoxon\n",
      "\n",
      "\n",
      "Hasil uji Wilcoxon antar bulan:\n",
      "Bulan 1 vs Bulan 2: p = 0.2500\n",
      "Bulan 1 vs Bulan 3: p = 0.2500\n",
      "Bulan 2 vs Bulan 3: p = 0.2500\n",
      "\n",
      "P-value setelah koreksi Bonferroni:\n",
      "Bulan 1 vs Bulan 2: corrected p = 0.7500, signifikan: False\n",
      "Bulan 1 vs Bulan 3: corrected p = 0.7500, signifikan: False\n",
      "Bulan 2 vs Bulan 3: corrected p = 0.7500, signifikan: False\n"
     ]
    }
   ],
   "source": [
    "# Muhammad Fadhil Ramadhan - 064102400010\n",
    "import scipy.stats as stats\n",
    "from itertools import combinations\n",
    "from statsmodels.stats.multitest import multipletests\n",
    "import numpy as np\n",
    "\n",
    "# Data penjualan bulanan dari masing-masing kota (dalam juta rupiah)\n",
    "kota_A = [100, 110, 120]\n",
    "kota_B = [110, 115, 125]\n",
    "kota_C = [100, 102, 104]\n",
    "\n",
    "# Gabungkan sebagai data waktu (3 kolom = bulan, baris = kota)\n",
    "data = np.array([kota_A, kota_B, kota_C])\n",
    "\n",
    "# Uji Friedman\n",
    "friedman_stat, p_friedman = stats.friedmanchisquare(data[:, 0], data[:, 1], data[:, 2])\n",
    "print(f\"Friedman test statistic = {friedman_stat:.3f}, p-value = {p_friedman:.4f}\")\n",
    "\n",
    "if p_friedman < 0.05:\n",
    "    print(\"Hasil signifikan: Lanjut ke post-hoc Wilcoxon\")\n",
    "    \n",
    "    # Uji Wilcoxon antar bulan\n",
    "    Bulan = ['Bulan 1', 'Bulan 2', 'Bulan 3']\n",
    "    kombinasi = list(combinations([0, 1, 2], 2))\n",
    "    p_vals = []\n",
    "    \n",
    "    print(\"\\n\\nHasil uji Wilcoxon antar bulan:\")\n",
    "    for i, j in kombinasi:\n",
    "        stat, p = stats.wilcoxon(data[:, i], data[:, j])\n",
    "        p_vals.append(p)\n",
    "        print(f\"{Bulan[i]} vs {Bulan[j]}: p = {p:.4f}\")\n",
    "\n",
    "    # Koreksi Bonferroni\n",
    "    reject, p_corrected, _, _ = multipletests(p_vals, alpha=0.05, method='bonferroni')\n",
    "    print(\"\\nP-value setelah koreksi Bonferroni:\")\n",
    "    for idx, (i, j) in enumerate(kombinasi):\n",
    "        print(f\"{Bulan[i]} vs {Bulan[j]}: corrected p = {p_corrected[idx]:.4f}, signifikan: {reject[idx]}\")\n",
    "else:\n",
    "    print(\"Tidak ada perbedaan signifikan antar bulan.\")"
   ]
  },
  {
   "cell_type": "code",
   "execution_count": null,
   "id": "8b0e83d8-e3c9-4be4-abe4-ff55289e9c10",
   "metadata": {},
   "outputs": [],
   "source": []
  }
 ],
 "metadata": {
  "kernelspec": {
   "display_name": "Python [conda env:base] *",
   "language": "python",
   "name": "conda-base-py"
  },
  "language_info": {
   "codemirror_mode": {
    "name": "ipython",
    "version": 3
   },
   "file_extension": ".py",
   "mimetype": "text/x-python",
   "name": "python",
   "nbconvert_exporter": "python",
   "pygments_lexer": "ipython3",
   "version": "3.12.7"
  }
 },
 "nbformat": 4,
 "nbformat_minor": 5
}
